{
 "cells": [
  {
   "cell_type": "markdown",
   "id": "fresh-invention",
   "metadata": {},
   "source": [
    "### 1.\n",
    "Haga un programa en Python que reciba de parámetro un número de segundos y que despliegue en pantalla, las horas, minutos y segundos que representan. Por ejemplo:\n",
    "\n",
    "- Si el número de segundos recibidos fuera: 2743, entonces su programa debería desplegar:\n",
    "    Horas: 0, minutos: 45, segundos:43\n",
    "- Si el número de seegundos recibidos fuera 5871: \n",
    "    Horas: 1, Minutos: 37, segundos: 51\n",
    "    \n",
    "Recuerde manejar excepciones y errores que considere necesarios\n",
    "\n",
    "\n",
    "\n"
   ]
  },
  {
   "cell_type": "code",
   "execution_count": null,
   "id": "amazing-defensive",
   "metadata": {},
   "outputs": [],
   "source": [
    "import sys\n",
    "\n",
    "def main():\n",
    "    try:\n",
    "        entrada = sys.argv[1]\n",
    "        entrada = int(entrada)\n",
    "        segundos = int(entrada) % 60\n",
    "        operador = int(entrada) // 60\n",
    "        minutos = operador % 60\n",
    "        hora = operador // 60\n",
    "        if hora > 24:\n",
    "            raise Exception(\"Error: El valor debe ser menor a 90000\")\n",
    "        print(\"Horas: {} Minutos: {} Segundos: {} \".format(hora,minutos,segundos))\n",
    "    except IndexError as e:\n",
    "        print('Error: Debe ingresar un parámetro')\n",
    "    except ValueError as e:\n",
    "        print('Error: Debe ingresar un entero')\n",
    "    except Exception as e:\n",
    "        print(e)\n",
    "    \n",
    "if __name__ == '__main__':\n",
    "    main()"
   ]
  },
  {
   "cell_type": "code",
   "execution_count": null,
   "id": "caroline-mixture",
   "metadata": {},
   "outputs": [],
   "source": [
    "### 2.\n",
    "\n",
    "Haga una función en Python que dado un número entre 1 y 20 y un caracter cualquiera despliegue cuatro patrones triangulares.\n",
    "Por ejemplo si el usuario ingresara el número 4 y el símbolo *, el programa deberá despligar lo siguiente:\n",
    "\n",
    "   *         ****          *         *******\n",
    "  **          ***         ***         *****\n",
    " ***           **        *****         ***\n",
    "****            *       *******         *\n",
    " \n",
    " "
   ]
  },
  {
   "cell_type": "markdown",
   "id": "broken-pulse",
   "metadata": {},
   "source": [
    "### 3.\n",
    "Haga un programa en Python que la fecha de navimiento de una persona (puede ingresar por separado cada valor, es decir, pedir primero día, luego mes y luego año) despliegue la edad de la persona en años, meses y días.  Su resultado puede ser aproximado."
   ]
  },
  {
   "cell_type": "code",
   "execution_count": null,
   "id": "temporal-demonstration",
   "metadata": {},
   "outputs": [],
   "source": [
    "import sys\n",
    "from datetime import datetime\n",
    "from datetime import date\n",
    "\n",
    "def main():\n",
    "    try:\n",
    "        dia = input('Ingresa tu día de nacimiento: ')\n",
    "        dia = int(dia)\n",
    "        mes = input('Ingresa tu mes de nacimiento: ')\n",
    "        mes = int(mes)\n",
    "        if  mes < 1 or mes > 12:\n",
    "            e = 'Error: el mes debe estar entre 1 y 12'\n",
    "            raise Exception('Error:  Valor incorrecto')\n",
    "        año = input('Ingresa tu año de nacimiento: ')\n",
    "        año = int(año)\n",
    "        hoyaño = datetime.today().year\n",
    "        hoymes = datetime.today().month\n",
    "        hoydia = datetime.today().day\n",
    "        edad = hoyaño - año\n",
    "        if mes > hoymes:\n",
    "            edad = edad - 1\n",
    "            edadmes = 12 - (mes - hoymes)\n",
    "        else:\n",
    "            edadmes = hoymes - mes\n",
    "            print(str(edadmes))\n",
    "        if hoydia > dia:\n",
    "            edaddia = hoydia - dia\n",
    "        else:\n",
    "            edadmes = edadmes -1\n",
    "            edaddia = 30 - (dia - hoydia)\n",
    "        print('Su edad es:{} años {} meses {} días'.format(edad,edadmes,edaddia))\n",
    "    except ValueError as f:\n",
    "        print('Error: Debe ingresar un entero')\n",
    "    except Exception as f:\n",
    "        print(e)\n",
    "    \n",
    "if __name__ == '__main__':\n",
    "    main()\n",
    "            "
   ]
  },
  {
   "cell_type": "markdown",
   "id": "silver-hayes",
   "metadata": {},
   "source": [
    "###  PARTE 2 (Estructura de Datos): Resuelva los siguientes ejercicios sobre estructuras de datos en Python"
   ]
  },
  {
   "cell_type": "markdown",
   "id": "electrical-binary",
   "metadata": {},
   "source": [
    "### 1.\n",
    "Escriba una función en Python que dada una tupa de elementos (numeros o letras) esta se convierta a un strins.  Tomar nota del siguiente ejemplo:\n",
    "\n",
    "- Si la entrada fuera: (10,20,40,5,70)\n",
    "- La salida debería ser: 102040570\n"
   ]
  },
  {
   "cell_type": "code",
   "execution_count": null,
   "id": "regulated-swaziland",
   "metadata": {},
   "outputs": [],
   "source": []
  }
 ],
 "metadata": {
  "kernelspec": {
   "display_name": "Python 3",
   "language": "python",
   "name": "python3"
  },
  "language_info": {
   "codemirror_mode": {
    "name": "ipython",
    "version": 3
   },
   "file_extension": ".py",
   "mimetype": "text/x-python",
   "name": "python",
   "nbconvert_exporter": "python",
   "pygments_lexer": "ipython3",
   "version": "3.8.2"
  }
 },
 "nbformat": 4,
 "nbformat_minor": 5
}
